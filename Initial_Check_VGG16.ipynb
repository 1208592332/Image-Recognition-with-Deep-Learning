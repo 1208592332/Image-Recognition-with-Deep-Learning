{
 "cells": [
  {
   "cell_type": "code",
   "execution_count": 1,
   "metadata": {
    "collapsed": false
   },
   "outputs": [
    {
     "name": "stderr",
     "output_type": "stream",
     "text": [
      "Using TensorFlow backend.\n"
     ]
    }
   ],
   "source": [
    "from keras.applications.vgg16 import VGG16\n",
    "from keras.preprocessing import image\n",
    "from keras.applications.vgg16 import preprocess_input, decode_predictions\n",
    "import numpy as np"
   ]
  },
  {
   "cell_type": "code",
   "execution_count": 2,
   "metadata": {
    "collapsed": true
   },
   "outputs": [],
   "source": [
    "model = VGG16(weights='imagenet')"
   ]
  },
  {
   "cell_type": "code",
   "execution_count": 3,
   "metadata": {
    "collapsed": true
   },
   "outputs": [],
   "source": [
    "def pred(img_for_recog):\n",
    "    img = image.load_img(img_for_recog, target_size = (224, 224))\n",
    "    x = image.img_to_array(img)\n",
    "    x = np.expand_dims(x, axis=0)\n",
    "    x = preprocess_input(x)\n",
    "    preds = model.predict(x)\n",
    "    # decode the results into a list of tuples (class, description, probability)\n",
    "    # (one such list for each sample in the batch)\n",
    "    print(img_for_recog)\n",
    "    print('Predicted:', decode_predictions(preds, top = 5)[0])"
   ]
  },
  {
   "cell_type": "code",
   "execution_count": 4,
   "metadata": {
    "collapsed": false
   },
   "outputs": [
    {
     "name": "stdout",
     "output_type": "stream",
     "text": [
      "images/foxhound.jpg\n",
      "Predicted: [('n02089867', 'Walker_hound', 0.47248915), ('n02088238', 'basset', 0.3002221), ('n02089973', 'English_foxhound', 0.18192156), ('n02088466', 'bloodhound', 0.01758085), ('n02110806', 'basenji', 0.010055218)]\n"
     ]
    }
   ],
   "source": [
    "img_path = 'images/foxhound.jpg'\n",
    "pred(img_path)"
   ]
  },
  {
   "cell_type": "code",
   "execution_count": 5,
   "metadata": {
    "collapsed": false
   },
   "outputs": [
    {
     "name": "stdout",
     "output_type": "stream",
     "text": [
      "images/bull_dog.jpg\n",
      "Predicted: [('n02108089', 'boxer', 0.89564115), ('n02109525', 'Saint_Bernard', 0.054107696), ('n02108422', 'bull_mastiff', 0.040158149), ('n02093428', 'American_Staffordshire_terrier', 0.0041315109), ('n02109047', 'Great_Dane', 0.0026218612)]\n"
     ]
    }
   ],
   "source": [
    "img_path = 'images/bull_dog.jpg'\n",
    "pred(img_path)"
   ]
  },
  {
   "cell_type": "code",
   "execution_count": 6,
   "metadata": {
    "collapsed": false
   },
   "outputs": [
    {
     "name": "stdout",
     "output_type": "stream",
     "text": [
      "images/pit_bull.jpg\n",
      "Predicted: [('n02093256', 'Staffordshire_bullterrier', 0.96899408), ('n02093428', 'American_Staffordshire_terrier', 0.030840034), ('n02108915', 'French_bulldog', 0.00014161222), ('n02096585', 'Boston_bull', 1.4976581e-05), ('n02109047', 'Great_Dane', 3.7313307e-06)]\n"
     ]
    }
   ],
   "source": [
    "img_path = 'images/pit_bull.jpg'\n",
    "pred(img_path)"
   ]
  },
  {
   "cell_type": "code",
   "execution_count": 7,
   "metadata": {
    "collapsed": false
   },
   "outputs": [
    {
     "name": "stdout",
     "output_type": "stream",
     "text": [
      "images/border_collie.jpg\n",
      "Predicted: [('n02106166', 'Border_collie', 0.35380194), ('n02106030', 'collie', 0.15656714), ('n02111277', 'Newfoundland', 0.123242), ('n02105641', 'Old_English_sheepdog', 0.11735074), ('n02102040', 'English_springer', 0.044861559)]\n"
     ]
    }
   ],
   "source": [
    "img_path = 'images/border_collie.jpg'\n",
    "pred(img_path)"
   ]
  },
  {
   "cell_type": "code",
   "execution_count": 8,
   "metadata": {
    "collapsed": false
   },
   "outputs": [
    {
     "name": "stdout",
     "output_type": "stream",
     "text": [
      "images/siberian_husky.jpg\n",
      "Predicted: [('n02110185', 'Siberian_husky', 0.6947785), ('n02109961', 'Eskimo_dog', 0.29626557), ('n02110063', 'malamute', 0.0040479875), ('n02114367', 'timber_wolf', 0.001600771), ('n02115641', 'dingo', 0.0015772495)]\n"
     ]
    }
   ],
   "source": [
    "img_path = 'images/siberian_husky.jpg'\n",
    "pred(img_path)"
   ]
  },
  {
   "cell_type": "code",
   "execution_count": 9,
   "metadata": {
    "collapsed": false
   },
   "outputs": [
    {
     "name": "stdout",
     "output_type": "stream",
     "text": [
      "images/bernese_mountain_dog.jpg\n",
      "Predicted: [('n02107683', 'Bernese_mountain_dog', 0.98371881), ('n02108000', 'EntleBucher', 0.0043138959), ('n02107908', 'Appenzeller', 0.0042627552), ('n02109525', 'Saint_Bernard', 0.0040286123), ('n02107574', 'Greater_Swiss_Mountain_dog', 0.0027233462)]\n"
     ]
    }
   ],
   "source": [
    "img_path = 'images/bernese_mountain_dog.jpg'\n",
    "pred(img_path)"
   ]
  },
  {
   "cell_type": "code",
   "execution_count": 5,
   "metadata": {
    "collapsed": false
   },
   "outputs": [
    {
     "name": "stdout",
     "output_type": "stream",
     "text": [
      "images/Danaus_Plexippus.jpg\n",
      "Predicted: [('n02279972', 'monarch', 0.98851192), ('n02281406', 'sulphur_butterfly', 0.0057063717), ('n02281787', 'lycaenid', 0.0021562141), ('n02277742', 'ringlet', 0.0019375276), ('n02264363', 'lacewing', 0.00061439385)]\n"
     ]
    }
   ],
   "source": [
    "img_path = 'images/Danaus_Plexippus.jpg'\n",
    "pred(img_path)"
   ]
  },
  {
   "cell_type": "code",
   "execution_count": null,
   "metadata": {
    "collapsed": true
   },
   "outputs": [],
   "source": []
  }
 ],
 "metadata": {
  "anaconda-cloud": {},
  "kernelspec": {
   "display_name": "Python [default]",
   "language": "python",
   "name": "python3"
  },
  "language_info": {
   "codemirror_mode": {
    "name": "ipython",
    "version": 3
   },
   "file_extension": ".py",
   "mimetype": "text/x-python",
   "name": "python",
   "nbconvert_exporter": "python",
   "pygments_lexer": "ipython3",
   "version": "3.5.2"
  }
 },
 "nbformat": 4,
 "nbformat_minor": 1
}
