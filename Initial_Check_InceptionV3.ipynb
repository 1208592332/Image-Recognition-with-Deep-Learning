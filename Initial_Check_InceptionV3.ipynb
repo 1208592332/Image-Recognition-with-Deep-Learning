{
 "cells": [
  {
   "cell_type": "code",
   "execution_count": 1,
   "metadata": {
    "collapsed": false
   },
   "outputs": [
    {
     "name": "stderr",
     "output_type": "stream",
     "text": [
      "Using TensorFlow backend.\n"
     ]
    }
   ],
   "source": [
    "from keras.applications.inception_v3 import InceptionV3\n",
    "from keras.preprocessing import image\n",
    "from keras.applications.inception_v3 import preprocess_input, decode_predictions\n",
    "import numpy as np"
   ]
  },
  {
   "cell_type": "code",
   "execution_count": 2,
   "metadata": {
    "collapsed": true
   },
   "outputs": [],
   "source": [
    "model = InceptionV3(weights='imagenet')"
   ]
  },
  {
   "cell_type": "code",
   "execution_count": 3,
   "metadata": {
    "collapsed": true
   },
   "outputs": [],
   "source": [
    "def pred(img_for_recog):\n",
    "    img = image.load_img(img_for_recog, target_size = (299, 299, 3))\n",
    "    x = image.img_to_array(img)\n",
    "    x = np.expand_dims(x, axis=0)\n",
    "    x = preprocess_input(x)\n",
    "    preds = model.predict(x)\n",
    "    # decode the results into a list of tuples (class, description, probability)\n",
    "    # (one such list for each sample in the batch)\n",
    "    print('Predicted:', decode_predictions(preds, top = 5)[0])"
   ]
  },
  {
   "cell_type": "code",
   "execution_count": 4,
   "metadata": {
    "collapsed": false
   },
   "outputs": [
    {
     "name": "stdout",
     "output_type": "stream",
     "text": [
      "images/foxhound.jpg\n",
      "Predicted: [('n02088238', 'basset', 0.846448), ('n02088364', 'beagle', 0.061020847), ('n02089867', 'Walker_hound', 0.033542715), ('n02088466', 'bloodhound', 0.014418359), ('n02089973', 'English_foxhound', 0.0049971589)]\n"
     ]
    }
   ],
   "source": [
    "img_path = 'images/foxhound.jpg'\n",
    "print(img_path)\n",
    "pred(img_path)"
   ]
  },
  {
   "cell_type": "code",
   "execution_count": 5,
   "metadata": {
    "collapsed": false
   },
   "outputs": [
    {
     "name": "stdout",
     "output_type": "stream",
     "text": [
      "images/bull_dog.jpg\n",
      "Predicted: [('n02108089', 'boxer', 0.6943683), ('n02108422', 'bull_mastiff', 0.20313616), ('n02108915', 'French_bulldog', 0.017218443), ('n02109525', 'Saint_Bernard', 0.01149273), ('n02093428', 'American_Staffordshire_terrier', 0.0044892323)]\n"
     ]
    }
   ],
   "source": [
    "img_path = 'images/bull_dog.jpg'\n",
    "print(img_path)\n",
    "pred(img_path)"
   ]
  },
  {
   "cell_type": "code",
   "execution_count": 6,
   "metadata": {
    "collapsed": false
   },
   "outputs": [
    {
     "name": "stdout",
     "output_type": "stream",
     "text": [
      "images/pit_bull.jpg\n",
      "Predicted: [('n02093256', 'Staffordshire_bullterrier', 0.77109647), ('n02093428', 'American_Staffordshire_terrier', 0.22216094), ('n02108915', 'French_bulldog', 0.00073458673), ('n02096585', 'Boston_bull', 0.00057698198), ('n02105412', 'kelpie', 0.00031224609)]\n"
     ]
    }
   ],
   "source": [
    "img_path = 'images/pit_bull.jpg'\n",
    "print(img_path)\n",
    "pred(img_path)"
   ]
  },
  {
   "cell_type": "code",
   "execution_count": 7,
   "metadata": {
    "collapsed": false
   },
   "outputs": [
    {
     "name": "stdout",
     "output_type": "stream",
     "text": [
      "images/border_collie.jpg\n",
      "Predicted: [('n02106166', 'Border_collie', 0.69825912), ('n02106030', 'collie', 0.19546206), ('n02105855', 'Shetland_sheepdog', 0.013488786), ('n02113186', 'Cardigan', 0.013457948), ('n02111277', 'Newfoundland', 0.0060541364)]\n"
     ]
    }
   ],
   "source": [
    "img_path = 'images/border_collie.jpg'\n",
    "print(img_path)\n",
    "pred(img_path)"
   ]
  },
  {
   "cell_type": "code",
   "execution_count": 8,
   "metadata": {
    "collapsed": false
   },
   "outputs": [
    {
     "name": "stdout",
     "output_type": "stream",
     "text": [
      "images/siberian_husky.jpg\n",
      "Predicted: [('n02110185', 'Siberian_husky', 0.75209755), ('n02109961', 'Eskimo_dog', 0.20943394), ('n02110063', 'malamute', 0.020496743), ('n02115641', 'dingo', 0.0040009436), ('n02114367', 'timber_wolf', 0.0019929342)]\n"
     ]
    }
   ],
   "source": [
    "img_path = 'images/siberian_husky.jpg'\n",
    "print(img_path)\n",
    "pred(img_path)"
   ]
  },
  {
   "cell_type": "code",
   "execution_count": 9,
   "metadata": {
    "collapsed": false
   },
   "outputs": [
    {
     "name": "stdout",
     "output_type": "stream",
     "text": [
      "images/bernese_mountain_dog.jpg\n",
      "Predicted: [('n02107683', 'Bernese_mountain_dog', 0.81618124), ('n02108000', 'EntleBucher', 0.054784294), ('n02107574', 'Greater_Swiss_Mountain_dog', 0.037102859), ('n02107908', 'Appenzeller', 0.033798523), ('n02101006', 'Gordon_setter', 0.0021162913)]\n"
     ]
    }
   ],
   "source": [
    "img_path = 'images/bernese_mountain_dog.jpg'\n",
    "print(img_path)\n",
    "pred(img_path)"
   ]
  }
 ],
 "metadata": {
  "anaconda-cloud": {},
  "kernelspec": {
   "display_name": "Python [default]",
   "language": "python",
   "name": "python3"
  },
  "language_info": {
   "codemirror_mode": {
    "name": "ipython",
    "version": 3
   },
   "file_extension": ".py",
   "mimetype": "text/x-python",
   "name": "python",
   "nbconvert_exporter": "python",
   "pygments_lexer": "ipython3",
   "version": "3.5.2"
  }
 },
 "nbformat": 4,
 "nbformat_minor": 1
}
