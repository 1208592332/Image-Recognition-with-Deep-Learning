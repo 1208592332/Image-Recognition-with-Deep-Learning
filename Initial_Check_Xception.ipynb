{
 "cells": [
  {
   "cell_type": "code",
   "execution_count": 1,
   "metadata": {
    "collapsed": false
   },
   "outputs": [
    {
     "name": "stderr",
     "output_type": "stream",
     "text": [
      "Using TensorFlow backend.\n"
     ]
    }
   ],
   "source": [
    "from keras.applications.xception import Xception\n",
    "from keras.preprocessing import image\n",
    "from keras.applications.xception import preprocess_input, decode_predictions\n",
    "import numpy as np"
   ]
  },
  {
   "cell_type": "code",
   "execution_count": 2,
   "metadata": {
    "collapsed": true
   },
   "outputs": [],
   "source": [
    "model = Xception(weights='imagenet')"
   ]
  },
  {
   "cell_type": "code",
   "execution_count": 3,
   "metadata": {
    "collapsed": true
   },
   "outputs": [],
   "source": [
    "def pred(img_for_recog):\n",
    "    img = image.load_img(img_for_recog, target_size = (299, 299, 3))\n",
    "    x = image.img_to_array(img)\n",
    "    x = np.expand_dims(x, axis=0)\n",
    "    x = preprocess_input(x)\n",
    "    preds = model.predict(x)\n",
    "    # decode the results into a list of tuples (class, description, probability)\n",
    "    # (one such list for each sample in the batch)\n",
    "    print('Predicted:', decode_predictions(preds, top = 5)[0])"
   ]
  },
  {
   "cell_type": "code",
   "execution_count": 4,
   "metadata": {
    "collapsed": false
   },
   "outputs": [
    {
     "name": "stdout",
     "output_type": "stream",
     "text": [
      "images/foxhound.jpg\n",
      "Predicted: [('n02088238', 'basset', 0.94097167), ('n02088364', 'beagle', 0.0097665219), ('n02088466', 'bloodhound', 0.0034847958), ('n02089867', 'Walker_hound', 0.0015465583), ('n02102177', 'Welsh_springer_spaniel', 0.0011396153)]\n"
     ]
    }
   ],
   "source": [
    "img_path = 'images/foxhound.jpg'\n",
    "print(img_path)\n",
    "pred(img_path)"
   ]
  },
  {
   "cell_type": "code",
   "execution_count": 5,
   "metadata": {
    "collapsed": false
   },
   "outputs": [
    {
     "name": "stdout",
     "output_type": "stream",
     "text": [
      "images/bull_dog.jpg\n",
      "Predicted: [('n02108915', 'French_bulldog', 0.15297125), ('n02108422', 'bull_mastiff', 0.12197607), ('n02110958', 'pug', 0.067903571), ('n02108089', 'boxer', 0.012411187), ('n02096585', 'Boston_bull', 0.0081145903)]\n"
     ]
    }
   ],
   "source": [
    "img_path = 'images/bull_dog.jpg'\n",
    "print(img_path)\n",
    "pred(img_path)"
   ]
  },
  {
   "cell_type": "code",
   "execution_count": 6,
   "metadata": {
    "collapsed": false
   },
   "outputs": [
    {
     "name": "stdout",
     "output_type": "stream",
     "text": [
      "images/pit_bull.jpg\n",
      "Predicted: [('n02093256', 'Staffordshire_bullterrier', 0.51156384), ('n02093428', 'American_Staffordshire_terrier', 0.30832171), ('n02109047', 'Great_Dane', 0.0077747083), ('n02108089', 'boxer', 0.0035109792), ('n02108422', 'bull_mastiff', 0.0027541346)]\n"
     ]
    }
   ],
   "source": [
    "img_path = 'images/pit_bull.jpg'\n",
    "print(img_path)\n",
    "pred(img_path)"
   ]
  },
  {
   "cell_type": "code",
   "execution_count": 7,
   "metadata": {
    "collapsed": false
   },
   "outputs": [
    {
     "name": "stdout",
     "output_type": "stream",
     "text": [
      "images/border_collie.jpg\n",
      "Predicted: [('n02106166', 'Border_collie', 0.50568038), ('n02106030', 'collie', 0.32594955), ('n02111277', 'Newfoundland', 0.070341103), ('n02109525', 'Saint_Bernard', 0.012747969), ('n02102040', 'English_springer', 0.0068128579)]\n"
     ]
    }
   ],
   "source": [
    "img_path = 'images/border_collie.jpg'\n",
    "print(img_path)\n",
    "pred(img_path)"
   ]
  },
  {
   "cell_type": "code",
   "execution_count": 8,
   "metadata": {
    "collapsed": false
   },
   "outputs": [
    {
     "name": "stdout",
     "output_type": "stream",
     "text": [
      "images/siberian_husky.jpg\n",
      "Predicted: [('n02110185', 'Siberian_husky', 0.65883958), ('n02109961', 'Eskimo_dog', 0.28877178), ('n02115641', 'dingo', 0.0070214183), ('n02114367', 'timber_wolf', 0.0038101482), ('n02110063', 'malamute', 0.0037608221)]\n"
     ]
    }
   ],
   "source": [
    "img_path = 'images/siberian_husky.jpg'\n",
    "print(img_path)\n",
    "pred(img_path)"
   ]
  },
  {
   "cell_type": "code",
   "execution_count": 9,
   "metadata": {
    "collapsed": false
   },
   "outputs": [
    {
     "name": "stdout",
     "output_type": "stream",
     "text": [
      "images/bernese_mountain_dog.jpg\n",
      "Predicted: [('n02107683', 'Bernese_mountain_dog', 0.93315923), ('n02107908', 'Appenzeller', 0.02413998), ('n02107574', 'Greater_Swiss_Mountain_dog', 0.013996874), ('n02108000', 'EntleBucher', 0.010706449), ('n02102040', 'English_springer', 0.00032278517)]\n"
     ]
    }
   ],
   "source": [
    "img_path = 'images/bernese_mountain_dog.jpg'\n",
    "print(img_path)\n",
    "pred(img_path)"
   ]
  }
 ],
 "metadata": {
  "anaconda-cloud": {},
  "kernelspec": {
   "display_name": "Python [default]",
   "language": "python",
   "name": "python3"
  },
  "language_info": {
   "codemirror_mode": {
    "name": "ipython",
    "version": 3
   },
   "file_extension": ".py",
   "mimetype": "text/x-python",
   "name": "python",
   "nbconvert_exporter": "python",
   "pygments_lexer": "ipython3",
   "version": "3.5.2"
  }
 },
 "nbformat": 4,
 "nbformat_minor": 1
}
