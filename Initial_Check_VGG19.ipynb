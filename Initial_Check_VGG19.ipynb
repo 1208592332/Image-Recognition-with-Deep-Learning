{
 "cells": [
  {
   "cell_type": "code",
   "execution_count": 1,
   "metadata": {
    "collapsed": false
   },
   "outputs": [
    {
     "name": "stderr",
     "output_type": "stream",
     "text": [
      "Using TensorFlow backend.\n"
     ]
    }
   ],
   "source": [
    "from keras.applications.vgg19 import VGG19\n",
    "from keras.preprocessing import image\n",
    "from keras.applications.vgg19 import preprocess_input, decode_predictions\n",
    "import numpy as np"
   ]
  },
  {
   "cell_type": "code",
   "execution_count": 2,
   "metadata": {
    "collapsed": true
   },
   "outputs": [],
   "source": [
    "model = VGG19(weights='imagenet')"
   ]
  },
  {
   "cell_type": "code",
   "execution_count": 3,
   "metadata": {
    "collapsed": true
   },
   "outputs": [],
   "source": [
    "def pred(img_for_recog):\n",
    "    img = image.load_img(img_for_recog, target_size = (224, 224))\n",
    "    x = image.img_to_array(img)\n",
    "    x = np.expand_dims(x, axis=0)\n",
    "    x = preprocess_input(x)\n",
    "    preds = model.predict(x)\n",
    "    # decode the results into a list of tuples (class, description, probability)\n",
    "    # (one such list for each sample in the batch)\n",
    "    print('Predicted:', decode_predictions(preds, top = 5)[0])"
   ]
  },
  {
   "cell_type": "code",
   "execution_count": 4,
   "metadata": {
    "collapsed": false
   },
   "outputs": [
    {
     "name": "stdout",
     "output_type": "stream",
     "text": [
      "images/foxhound.jpg\n",
      "Predicted: [('n02088238', 'basset', 0.68568349), ('n02089867', 'Walker_hound', 0.19590567), ('n02089973', 'English_foxhound', 0.074827053), ('n02088466', 'bloodhound', 0.014347268), ('n02088364', 'beagle', 0.01063628)]\n"
     ]
    }
   ],
   "source": [
    "img_path = 'images/foxhound.jpg'\n",
    "print(img_path)\n",
    "pred(img_path)"
   ]
  },
  {
   "cell_type": "code",
   "execution_count": 5,
   "metadata": {
    "collapsed": false
   },
   "outputs": [
    {
     "name": "stdout",
     "output_type": "stream",
     "text": [
      "images/bull_dog.jpg\n",
      "Predicted: [('n02108089', 'boxer', 0.54142123), ('n02108422', 'bull_mastiff', 0.36290869), ('n02109525', 'Saint_Bernard', 0.054607138), ('n02093428', 'American_Staffordshire_terrier', 0.013661487), ('n02093256', 'Staffordshire_bullterrier', 0.0057134833)]\n"
     ]
    }
   ],
   "source": [
    "img_path = 'images/bull_dog.jpg'\n",
    "print(img_path)\n",
    "pred(img_path)"
   ]
  },
  {
   "cell_type": "code",
   "execution_count": 6,
   "metadata": {
    "collapsed": false
   },
   "outputs": [
    {
     "name": "stdout",
     "output_type": "stream",
     "text": [
      "images/pit_bull.jpg\n",
      "Predicted: [('n02093256', 'Staffordshire_bullterrier', 0.93100137), ('n02093428', 'American_Staffordshire_terrier', 0.067639582), ('n02108915', 'French_bulldog', 0.00036896227), ('n02105412', 'kelpie', 0.00024523141), ('n02096585', 'Boston_bull', 0.00019805315)]\n"
     ]
    }
   ],
   "source": [
    "img_path = 'images/pit_bull.jpg'\n",
    "print(img_path)\n",
    "pred(img_path)"
   ]
  },
  {
   "cell_type": "code",
   "execution_count": 7,
   "metadata": {
    "collapsed": false
   },
   "outputs": [
    {
     "name": "stdout",
     "output_type": "stream",
     "text": [
      "images/border_collie.jpg\n",
      "Predicted: [('n02106166', 'Border_collie', 0.50296062), ('n02106030', 'collie', 0.19945961), ('n02111277', 'Newfoundland', 0.16729648), ('n02109525', 'Saint_Bernard', 0.048087053), ('n02102040', 'English_springer', 0.033448834)]\n"
     ]
    }
   ],
   "source": [
    "img_path = 'images/border_collie.jpg'\n",
    "print(img_path)\n",
    "pred(img_path)"
   ]
  },
  {
   "cell_type": "code",
   "execution_count": 8,
   "metadata": {
    "collapsed": false
   },
   "outputs": [
    {
     "name": "stdout",
     "output_type": "stream",
     "text": [
      "images/siberian_husky.jpg\n",
      "Predicted: [('n02110185', 'Siberian_husky', 0.65298951), ('n02109961', 'Eskimo_dog', 0.33883694), ('n02110063', 'malamute', 0.0066914372), ('n02115641', 'dingo', 0.0008661407), ('n02114367', 'timber_wolf', 0.00026286455)]\n"
     ]
    }
   ],
   "source": [
    "img_path = 'images/siberian_husky.jpg'\n",
    "print(img_path)\n",
    "pred(img_path)"
   ]
  },
  {
   "cell_type": "code",
   "execution_count": 9,
   "metadata": {
    "collapsed": false
   },
   "outputs": [
    {
     "name": "stdout",
     "output_type": "stream",
     "text": [
      "images/bernese_mountain_dog.jpg\n",
      "Predicted: [('n02107683', 'Bernese_mountain_dog', 0.97871059), ('n02107908', 'Appenzeller', 0.014172535), ('n02108000', 'EntleBucher', 0.0046858168), ('n02107574', 'Greater_Swiss_Mountain_dog', 0.0019786123), ('n02109525', 'Saint_Bernard', 0.0002399029)]\n"
     ]
    }
   ],
   "source": [
    "img_path = 'images/bernese_mountain_dog.jpg'\n",
    "print(img_path)\n",
    "pred(img_path)"
   ]
  }
 ],
 "metadata": {
  "anaconda-cloud": {},
  "kernelspec": {
   "display_name": "Python [default]",
   "language": "python",
   "name": "python3"
  },
  "language_info": {
   "codemirror_mode": {
    "name": "ipython",
    "version": 3
   },
   "file_extension": ".py",
   "mimetype": "text/x-python",
   "name": "python",
   "nbconvert_exporter": "python",
   "pygments_lexer": "ipython3",
   "version": "3.5.2"
  }
 },
 "nbformat": 4,
 "nbformat_minor": 1
}
